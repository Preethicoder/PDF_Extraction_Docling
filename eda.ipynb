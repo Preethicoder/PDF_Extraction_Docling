# %% [markdown]
"""
# Comprehensive PDF Exploratory Data Analysis (EDA) with spaCy-Layout

This notebook demonstrates how to perform extensive EDA on PDF documents using spaCy-Layout,
utilizing all available attributes and features for maximum insight extraction.

## Features Covered:
- Document metadata extraction
- Layout structure analysis with bounding boxes
- Linguistic feature analysis
- Table detection and analysis
- Named entity recognition in context
- Interactive visualizations
- Comprehensive reporting

## Installation Requirements:
```bash
pip install spacy spacy-layout pandas matplotlib seaborn plotly wordcloud networkx jupyter
python -m spacy download en_core_web_sm
```
"""

# %% [markdown]
## 1. Setup and Imports

# %%
import spacy
from spacy_layout import spaCyLayout
import pandas as pd
import matplotlib.pyplot as plt
import seaborn as sns
import plotly.express as px
import plotly.graph_objects as go
from plotly.subplots import make_subplots
from wordcloud import WordCloud
import numpy as np
from collections import Counter, defaultdict
import warnings
import json
from pathlib import Path

# Configure display settings
warnings.filterwarnings('ignore')
plt.rcParams['figure.figsize'] = (12, 8)
sns.set_style("whitegrid")

# %%
# Initialize spaCy and spaCy-Layout
print("Loading spaCy model and initializing spaCy-Layout...")
nlp = spacy.load("en_core_web_sm")
layout_processor = spaCyLayout(nlp)
print("✓ Setup complete!")

# %% [markdown]
## 2. Load and Process PDF

# %%
# Update this path to your PDF file
PDF_PATH = "your_document.pdf"  # Change this to your PDF path

try:
    print(f"Processing PDF: {PDF_PATH}")
    doc = layout_processor(PDF_PATH)
    # Apply NLP pipeline for linguistic analysis
    doc = nlp(doc)
    print(f"✓ Document processed successfully!")
    print(f"📄 Document contains {len(doc)} tokens")
    print(f"📝 Text length: {len(doc.text)} characters")
except FileNotFoundError:
    print(f"❌ File not found: {PDF_PATH}")
    print("Please update PDF_PATH with a valid PDF file path")
    doc = None
except Exception as e:
    print(f"❌ Error processing PDF: {str(e)}")
    doc = None

# %% [markdown]
## 3. Document Metadata Analysis

# %%
if doc:
    # Basic document statistics
    metadata = {
        'total_tokens': len(doc),
        'total_characters': len(doc.text),
        'total_sentences': len(list(doc.sents)),
        'paragraphs': doc.text.count('\n\n'),
        'has_layout_info': hasattr(doc._, 'layout'),
        'has_tables': hasattr(doc._, 'tables') and bool(doc._.tables),
        'has_layout_spans': 'layout' in doc.spans
    }
    
    print("📊 DOCUMENT METADATA")
    print("=" * 40)
    for key, value in metadata.items():
        print(f"{key.replace('_', ' ').title()}: {value}")
    
    # Document layout information
    if hasattr(doc._, 'layout') and doc._.layout:
        layout_info = doc._.layout
        print(f"\n🔍 LAYOUT INFORMATION")
        print("=" * 40)
        if hasattr(layout_info, 'pages'):
            print(f"Number of pages: {len(layout_info.pages)}")
            for i, page in enumerate(layout_info.pages[:3]):  # Show first 3 pages
                if hasattr(page, 'size'):
                    print(f"Page {i+1} size: {page.size}")

# %% [markdown]
## 4. Layout Structure Analysis

# %%
if doc and 'layout' in doc.spans:
    layout_spans = doc.spans['layout']
    
    # Analyze span types
    span_types = Counter(span.label_ for span in layout_spans)
    
    print("🏗️ LAYOUT STRUCTURE ANALYSIS")
    print("=" * 40)
    print(f"Total layout spans: {len(layout_spans)}")
    print(f"Unique span types: {len(span_types)}")
    
    # Create visualization of span types
    fig, (ax1, ax2) = plt.subplots(1, 2, figsize=(15, 6))
    
    # Bar chart of span types
    span_types_df = pd.DataFrame.from_dict(span_types, orient='index', columns=['count'])
    span_types_df = span_types_df.sort_values('count', ascending=True)
    
    ax1.barh(range(len(span_types_df)), span_types_df['count'], color='skyblue')
    ax1.set_yticks(range(len(span_types_df)))
    ax1.set_yticklabels(span_types_df.index)
    ax1.set_xlabel('Count')
    ax1.set_title('Distribution of Layout Span Types')
